{
 "cells": [
  {
   "cell_type": "code",
   "execution_count": null,
   "metadata": {},
   "outputs": [],
   "source": [
    "from src.models import build_noise_cnn, train_model\n",
    "from src.preprocessing import load_image, normalize_image\n",
    "\n",
    "# Build model with internal Gaussian noise\n",
    "noise_model = build_noise_cnn(input_shape=(128, 128, 3), num_classes=10, noise_std=0.2)\n",
    "\n",
    "# Train and evaluate...\n"
   ]
  }
 ],
 "metadata": {
  "kernelspec": {
   "display_name": "cv",
   "language": "python",
   "name": "python3"
  },
  "language_info": {
   "name": "python",
   "version": "3.9.18"
  }
 },
 "nbformat": 4,
 "nbformat_minor": 2
}
